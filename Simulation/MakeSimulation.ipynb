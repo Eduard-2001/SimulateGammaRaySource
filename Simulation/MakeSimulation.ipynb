{
 "cells": [
  {
   "cell_type": "code",
   "execution_count": null,
   "id": "570b36df-f665-4976-84c5-2d2722c8459d",
   "metadata": {},
   "outputs": [
    {
     "name": "stderr",
     "output_type": "stream",
     "text": [
      " 87%|██████████████████████████████████████████████████████████████▋         | 88/101 [07:54<01:10,  5.45s/it]"
     ]
    }
   ],
   "source": [
    "import sys\n",
    "import numpy as np\n",
    "import healpy as hp\n",
    "import matplotlib.pyplot as plt\n",
    "import tqdm\n",
    "from firesong.Firesong import firesong_simulation\n",
    "#%matplotlib ipympl\n",
    "sys.path.append('../LHAASO_PSF/PSFConv/') \n",
    "import Plot\n",
    "import PSF\n",
    "\n",
    "#------------------------参数设置----------------------------------\n",
    "radius = 5 #图像半径\n",
    "xsize = 500 #卷积前的图像尺寸，每像素对应尺度为 2*radius/xsize, 这个值应当设置得较小。\n",
    "nfigure = 101 #生成多少张训练图像\n",
    "ra_center = np.linspace(0,360,nfigure) #每张图像的中心坐标\n",
    "dec_center = np.linspace(-90,90,nfigure)\n",
    "\n",
    "binsize = 0.1  #单位是度，必须大于卷积前像素的尺度\n",
    "\n",
    "NSIDE = 1024  #全天图的分辨率\n",
    "\n",
    "#-------------------------程序主体----------------------------------\n",
    "\n",
    "galabkg = np.load('Fermi-LAT_pi0_map.npy')\n",
    "galabkg = hp.ud_grade(galabkg,NSIDE)\n",
    "\n",
    "hp.mollview(np.log10(galabkg))\n",
    "Plot.plotGala()\n",
    "hp.graticule(dpar = 10,dmer=10)\n",
    "\n",
    "ROI = []\n",
    "ROI_BLUR = []\n",
    "\n",
    "for i in tqdm.trange(nfigure):\n",
    "    ra_c,dec_c = (ra_center[i],dec_center[i])\n",
    "\n",
    "    #------真实坐标不重要---------\n",
    "    x = np.linspace(-radius,radius,xsize)\n",
    "    y = np.linspace(-radius,radius,xsize)\n",
    "\n",
    "    #----------------按照中心坐标和半径选取天区-----------------------\n",
    "    roi = Plot.selectreg(np.log10(galabkg),ra_c,dec_c,radius,NSIDE,xsize=xsize,plot = False)\n",
    "\n",
    "    #------------对图像逐一卷积，如果卷积前分辨率很高，耗时会很长。--------------------\n",
    "    #使用了scipy.signal.convolve2d来卷积\n",
    "    psfconv= PSF.fitpsf(0,plot=False)\n",
    "    roi_blur = psfconv(roi,x,y)\n",
    "\n",
    "    #-----------------重新分bin---------------------\n",
    "    roi_rebin,xx,yy  = PSF.bindata(roi,x,y,binsize)\n",
    "    blur_rebin,xx,yy = PSF.bindata(roi_blur,x,y,binsize)\n",
    "    \n",
    "    ROI.append(roi_rebin)\n",
    "    ROI_BLUR.append(blur_rebin)\n",
    "\n",
    "a  =10\n",
    "fig,ax= plt.subplots(2)\n",
    "ax[0].imshow(ROI[a])\n",
    "ax[1].imshow(ROI_BLUR[a])\n",
    "print(ROI[a].sum()/ROI_BLUR[a].sum())\n",
    "\n",
    "ORIG = np.array(ROI)\n",
    "BLUR = np.array(ROI_BLUR)\n",
    "np.save('../SimulatedData/original.npy',ORIG)\n",
    "np.save('../SimulatedData/blurred.npy',BLUR)"
   ]
  }
 ],
 "metadata": {
  "kernelspec": {
   "display_name": "Python 3 (ipykernel)",
   "language": "python",
   "name": "python3"
  },
  "language_info": {
   "codemirror_mode": {
    "name": "ipython",
    "version": 3
   },
   "file_extension": ".py",
   "mimetype": "text/x-python",
   "name": "python",
   "nbconvert_exporter": "python",
   "pygments_lexer": "ipython3",
   "version": "3.10.13"
  }
 },
 "nbformat": 4,
 "nbformat_minor": 5
}
