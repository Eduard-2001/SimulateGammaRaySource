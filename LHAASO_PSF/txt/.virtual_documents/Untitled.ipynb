import numpy as np
import re
import matplotlib.pyplot as plt
from scipy import interpolate
import tqdm

with open("filelist") as f:
    filelist = f.readlines()
    filelist = [filelist[i].strip() for i in range(len(filelist))]

Data = []
for filename in filelist:
    with open(filename) as f:
        lines = f.readlines()
    lines = [lines[i].strip() for i in range(len(filelist))]
    data = []
    for line in lines:
        theta, MC = re.findall(r"\d*\.\d*", line)[0:2]
        data.append([theta, MC])
    Data.append(data)
Data= np.array(Data,dtype = np.float32)
np.save('psf.npy',Data)





Data
