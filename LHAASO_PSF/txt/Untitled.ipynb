{
 "cells": [
  {
   "cell_type": "code",
   "execution_count": 8,
   "id": "2eb4a5bb-8139-4e2a-8520-dfc926c5037f",
   "metadata": {
    "tags": []
   },
   "outputs": [],
   "source": [
    "import numpy as np\n",
    "import re\n",
    "import matplotlib.pyplot as plt\n",
    "from scipy import interpolate\n",
    "import tqdm\n",
    "\n",
    "with open(\"filelist\") as f:\n",
    "    filelist = f.readlines()\n",
    "    filelist = [filelist[i].strip() for i in range(len(filelist))]\n",
    "\n",
    "Data = []\n",
    "for filename in filelist:\n",
    "    with open(filename) as f:\n",
    "        lines = f.readlines()\n",
    "    lines = [lines[i].strip() for i in range(len(filelist))]\n",
    "    data = []\n",
    "    for line in lines:\n",
    "        theta, MC = re.findall(r\"\\d*\\.\\d*\", line)[0:2]\n",
    "        data.append([theta, MC])\n",
    "    Data.append(data)\n",
    "Data= np.array(Data,dtype = np.float32)\n",
    "np.save('psf.npy',Data)"
   ]
  },
  {
   "cell_type": "code",
   "execution_count": 8,
   "id": "3714ac7b-4c13-47b0-a1a8-171b3ac91cd6",
   "metadata": {
    "tags": []
   },
   "outputs": [],
   "source": []
  },
  {
   "cell_type": "code",
   "execution_count": 9,
   "id": "3ca28d8c-4c97-4238-8e2f-cf879f025713",
   "metadata": {
    "tags": []
   },
   "outputs": [
    {
     "data": {
      "text/plain": [
       "(9, 9, 2)"
      ]
     },
     "execution_count": 9,
     "metadata": {},
     "output_type": "execute_result"
    }
   ],
   "source": [
    "Data"
   ]
  }
 ],
 "metadata": {
  "kernelspec": {
   "display_name": "Python 3 (ipykernel)",
   "language": "python",
   "name": "python3"
  },
  "language_info": {
   "codemirror_mode": {
    "name": "ipython",
    "version": 3
   },
   "file_extension": ".py",
   "mimetype": "text/x-python",
   "name": "python",
   "nbconvert_exporter": "python",
   "pygments_lexer": "ipython3",
   "version": "3.9.18"
  },
  "widgets": {
   "application/vnd.jupyter.widget-state+json": {
    "state": {},
    "version_major": 2,
    "version_minor": 0
   }
  }
 },
 "nbformat": 4,
 "nbformat_minor": 5
}
