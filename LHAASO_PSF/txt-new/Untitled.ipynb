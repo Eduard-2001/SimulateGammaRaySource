{
 "cells": [
  {
   "cell_type": "code",
   "execution_count": 1,
   "id": "8566cc89-3b09-44d5-894e-708658ee4de8",
   "metadata": {
    "tags": []
   },
   "outputs": [],
   "source": [
    "import numpy as np\n",
    "import re\n",
    "import matplotlib.pyplot as plt\n",
    "from scipy import interpolate\n",
    "import tqdm\n",
    "\n",
    "with open(\"filelist\") as f:\n",
    "    filelist = f.readlines()\n",
    "    filelist = [filelist[i].strip() for i in range(len(filelist))]\n",
    "\n",
    "Data = []\n",
    "for filename in filelist:\n",
    "    with open(filename) as f:\n",
    "        lines = f.readlines()\n",
    "    lines = [lines[i].strip() for i in range(len(lines))]\n",
    "    data = []\n",
    "    for line in lines:\n",
    "        theta, MC = re.findall(r\"\\d*\\.\\d*\", line)[0],re.findall(r\"\\d*\\.\\d*\", line)[1]\n",
    "        #print(theta,MC)\n",
    "        data.append([theta, MC])\n",
    "    Data.append(data)\n",
    "Data= np.array(Data,dtype = np.float32)\n",
    "np.save('./PSFConv/psf.npy',Data)"
   ]
  },
  {
   "cell_type": "code",
   "execution_count": 7,
   "id": "9f2e21c0-a4c6-4e62-8cf9-4776a2da2c52",
   "metadata": {
    "tags": []
   },
   "outputs": [
    {
     "data": {
      "text/plain": [
       "(9, 50, 2)"
      ]
     },
     "execution_count": 7,
     "metadata": {},
     "output_type": "execute_result"
    }
   ],
   "source": [
    "Data.shape"
   ]
  }
 ],
 "metadata": {
  "kernelspec": {
   "display_name": "Python 3 (ipykernel)",
   "language": "python",
   "name": "python3"
  },
  "language_info": {
   "codemirror_mode": {
    "name": "ipython",
    "version": 3
   },
   "file_extension": ".py",
   "mimetype": "text/x-python",
   "name": "python",
   "nbconvert_exporter": "python",
   "pygments_lexer": "ipython3",
   "version": "3.9.17"
  },
  "widgets": {
   "application/vnd.jupyter.widget-state+json": {
    "state": {},
    "version_major": 2,
    "version_minor": 0
   }
  }
 },
 "nbformat": 4,
 "nbformat_minor": 5
}
